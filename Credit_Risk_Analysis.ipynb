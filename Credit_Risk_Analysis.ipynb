{
 "cells": [
  {
   "cell_type": "markdown",
   "metadata": {
    "colab": {},
    "colab_type": "code",
    "id": "dlTmAjIfjFrp"
   },
   "source": [
    "<font size=6>**Credit Risk Analysis**</font>"
   ]
  },
  {
   "cell_type": "code",
   "execution_count": 5,
   "metadata": {},
   "outputs": [],
   "source": [
    "# general imports\n",
    "import pandas as pd\n",
    "import zipfile\n",
    "import numpy as np\n",
    "import seaborn as sns\n",
    "from scipy import stats\n",
    "import scorecardpy as sc\n",
    "import matplotlib.pyplot as plt\n",
    "%matplotlib inline\n",
    "import math\n",
    "\n",
    "# sklearn imports\n",
    "from sklearn.linear_model import LogisticRegression\n",
    "from sklearn.metrics import make_scorer, confusion_matrix, mean_squared_error, roc_auc_score, roc_curve\n",
    "from sklearn.model_selection import GridSearchCV\n",
    "from sklearn.ensemble import RandomForestClassifier, GradientBoostingClassifier"
   ]
  },
  {
   "cell_type": "markdown",
   "metadata": {},
   "source": [
    "<font size=4>**Importing the Data set**</font>"
   ]
  },
  {
   "cell_type": "code",
   "execution_count": 7,
   "metadata": {
    "colab": {
     "base_uri": "https://localhost:8080/",
     "height": 481
    },
    "colab_type": "code",
    "id": "S904v4ln-Uz5",
    "outputId": "b65fce5e-cb86-4ed3-c9fe-fbe7af5821c3"
   },
   "outputs": [
    {
     "name": "stderr",
     "output_type": "stream",
     "text": [
      "/Library/Frameworks/Python.framework/Versions/3.6/lib/python3.6/site-packages/IPython/core/interactiveshell.py:3051: DtypeWarning: Columns (1,17,47,56,115,126,127,128,131,132,133,136,142,143,144) have mixed types. Specify dtype option on import or set low_memory=False.\n",
      "  interactivity=interactivity, compiler=compiler, result=result)\n"
     ]
    }
   ],
   "source": [
    "zf = zipfile.ZipFile('Lending Club Data.zip')\n",
    "df = pd.read_csv('Lending Club Data/LCFinal.csv')\n",
    "LGD_df = df.copy(deep=True)\n",
    "PD_df = df.copy(deep=True)"
   ]
  },
  {
   "cell_type": "markdown",
   "metadata": {},
   "source": [
    "**Defining some functions:**\n",
    "\n",
    "woe_trans: Performs Weight of Assets transformation on a dataframe. Returns the train and test WoE, train and test sets, and the bins.\n",
    "\n",
    "heat_map: Creates a heatmap of the confusion matrix. \n",
    "\n",
    "auc_roc: Create an ROC curve and output the AUC. "
   ]
  },
  {
   "cell_type": "code",
   "execution_count": 8,
   "metadata": {
    "colab": {},
    "colab_type": "code",
    "id": "syDucAmJ_wLS"
   },
   "outputs": [],
   "source": [
    "### FUNCTIONS ###\n",
    "def woe_trans(df, y, ratio=0.7):\n",
    "  \"\"\"\n",
    "  Take a DataFrame and an objective variable, and splits into train and test. \n",
    "  Performs woe transformation on splits.\n",
    "  Returns the woe transformed train and test splits as well as bins\n",
    "  \"\"\"\n",
    "  train, test = sc.split_df(df, y,\n",
    "                                  ratio = ratio, \n",
    "                                  seed = 0).values()\n",
    "\n",
    "  bins = sc.woebin(train, y, \n",
    "                   min_perc_fine_bin=0.01, # How many bins to cut initially into\n",
    "                   min_perc_coarse_bin=0.01,  # Minimum percentage per final bin\n",
    "                   stop_limit=0.1, # Minimum information value \n",
    "                   max_num_bin=10, # Maximum number of bins\n",
    "                   method='tree')\n",
    "\n",
    "  train_woe = sc.woebin_ply(train, bins) # Calculate WoE dataset (train)\n",
    "  test_woe = sc.woebin_ply(test, bins) # Calculate WoE dataset (test)\n",
    "\n",
    "  return train_woe, test_woe, train, test, bins\n",
    "\n",
    "def heat_map(y, y_pred, axis):\n",
    "    \"\"\"\n",
    "    Takes the true y and predicted y values, and an axis to output a heatmap of the confusion matrix produced.\n",
    "    \"\"\"\n",
    "    # Calculate confusion matrix\n",
    "    confusion_m = confusion_matrix(y, y_pred)\n",
    "\n",
    "    # Turn matrix to percentages\n",
    "    confusion_m = confusion_m.astype('float') / confusion_m.sum(axis=1)[:, np.newaxis]\n",
    "\n",
    "    # Turn to dataframe\n",
    "    df_cm = pd.DataFrame(confusion_m, index=axis, columns=axis, )\n",
    "\n",
    "    # Parameters of the image\n",
    "    figsize = (10,7)\n",
    "    fontsize=14\n",
    "\n",
    "    # Create image\n",
    "    fig = plt.figure(figsize=figsize)\n",
    "    heatmap = sns.heatmap(df_cm, annot=True, fmt='.2f')\n",
    "\n",
    "    # Make it nicer\n",
    "    heatmap.yaxis.set_ticklabels(heatmap.yaxis.get_ticklabels(), rotation=0, \n",
    "                                 ha='right', fontsize=fontsize)\n",
    "    heatmap.xaxis.set_ticklabels(heatmap.xaxis.get_ticklabels(), rotation=45,\n",
    "                                 ha='right', fontsize=fontsize)\n",
    "\n",
    "    # Add labels\n",
    "    plt.ylabel('True label')\n",
    "    plt.xlabel('Predicted label')\n",
    "\n",
    "    # Plot!\n",
    "    plt.show()\n",
    "\n",
    "def auc_roc(y_true, y_score):\n",
    "    \"\"\"\n",
    "    Takes the true y value and the y score value to produce an ROC curve and the AUC of the curve.\n",
    "    \"\"\"\n",
    "    # Calculate the ROC curve points\n",
    "    fpr, tpr, thresholds = roc_curve(y_true, y_score)\n",
    "\n",
    "    # Save the AUC in a variable to display it. Round it first\n",
    "    auc = np.round(roc_auc_score(y_true, y_score),\n",
    "                   decimals = 3)\n",
    "\n",
    "    # Create and show the plot\n",
    "    plt.plot(fpr,tpr,label=\"PD, auc=\"+str(auc))\n",
    "    plt.legend(loc=4)\n",
    "    plt.show()"
   ]
  },
  {
   "cell_type": "markdown",
   "metadata": {},
   "source": [
    "**Cleaning the Data**\n",
    "\n",
    "Data set contains 2,260,701 observation and 148 attributes. Not all observations are complete (i.e. many non-values) and many attributes are sparse (i.e. mostly NaN values), non-predictive (e.g. member_id), or illegal (e.g. zip_code).\n",
    "\n",
    "Two datasets needed to be individually cleaned. One for Probability of Default (0 or 1 integer) and one for Loss Given Default (0-1 float). "
   ]
  },
  {
   "cell_type": "code",
   "execution_count": 9,
   "metadata": {
    "colab": {},
    "colab_type": "code",
    "id": "EdIZwzgb_wDk"
   },
   "outputs": [],
   "source": [
    "###---PD DataFrame: Dropping Columns---###\n",
    "# removing columns with irrelevant data points (i.e. member_id or url)\n",
    "PD_df = PD_df.drop(['Unnamed: 0', 'member_id', 'url', 'id', 'desc', \n",
    "              'hardship_flag', 'pymnt_plan', ], axis='columns')\n",
    "\n",
    "# remove columns containing data that would not be available prior to giving a loan\n",
    "PD_df = PD_df.drop(['last_fico_range_high', 'last_fico_range_low', 'tot_cur_bal', \n",
    "              'mths_since_rcnt_il', 'mo_sin_rcnt_rev_tl_op', \n",
    "              'mths_since_recent_inq', 'avg_cur_bal', 'mo_sin_rcnt_tl', \n",
    "              'mths_since_recent_bc', 'delinq_2yrs', \n",
    "              'out_prncp', 'total_rec_late_fee', 'recoveries', \n",
    "              'collections_12_mths_ex_med', 'acc_now_delinq', 'tot_coll_amt',\n",
    "              'chargeoff_within_12_mths', 'delinq_amnt', 'num_accts_ever_120_pd',\n",
    "              'num_tl_120dpd_2m', 'num_tl_30dpd', 'num_tl_90g_dpd_24m',\n",
    "              'funded_amnt', 'funded_amnt_inv', 'out_prncp_inv', \n",
    "              'total_pymnt_inv', 'total_rec_prncp', 'total_rec_int', \n",
    "              'collection_recovery_fee', 'last_pymnt_amnt', 'total_rev_hi_lim',\n",
    "              'acc_open_past_24mths', 'bc_open_to_buy', 'bc_util', \n",
    "              'mths_since_recent_revol_delinq', 'num_actv_bc_tl', \n",
    "              'num_actv_rev_tl', 'num_bc_sats', 'num_bc_tl', 'num_il_tl', \n",
    "              'num_op_rev_tl', 'num_rev_accts', 'num_rev_tl_bal_gt_0', \n",
    "              'num_sats', 'num_tl_op_past_12m', 'pct_tl_nvr_dlq', \n",
    "              'percent_bc_gt_75', 'tax_liens', 'total_bal_ex_mort', \n",
    "              'total_bc_limit', 'total_il_high_credit_limit',\n",
    "              'debt_settlement_flag', 'mths_since_last_delinq',\n",
    "              'revol_util', 'mo_sin_old_rev_tl_op', 'mo_sin_old_il_acct'], axis='columns')\n",
    "\n",
    "# removing columns with difficult to work with data points\n",
    "PD_df = PD_df.drop(['emp_title', 'purpose', 'title'], axis='columns')\n",
    "\n",
    "# removing columns that contain data pertaining to identity and not behaviour\n",
    "PD_df = PD_df.drop(['zip_code', 'addr_state'], axis='columns')\n",
    "\n",
    "# remove columns where most of the data (>50%) is None\n",
    "PD_df = PD_df.dropna(thresh=len(PD_df)*0.5, axis='columns')\n",
    "\n",
    "# remove columns where most of the data points are the same\n",
    "PD_df = PD_df.drop(['application_type', 'initial_list_status',\n",
    "              'disbursement_method'], axis='columns')\n",
    "\n",
    "# remove all date columns\n",
    "PD_df = PD_df.drop(['issue_d', 'earliest_cr_line', 'last_pymnt_d', 'last_credit_pull_d'], axis='columns')\n",
    "\n",
    "# remove highly correlated values\n",
    "corr_matrix = PD_df.corr() # create a correlation matrix\n",
    "upper = corr_matrix.where(np.triu(np.ones(corr_matrix.shape), k=1).astype(np.bool)) # obtain only the upper triangle of the matrix\n",
    "to_drop = [column for column in upper.columns if any(upper[column] > 0.5)] # get column names with features with greater than 0.5 correlation\n",
    "PD_df = PD_df.drop(to_drop, axis='columns') # drop columns\n",
    "\n",
    "###---PD DataFrame: Removing Rows---###\n",
    "# remove rows that are missing >35% of variables\n",
    "PD_df = PD_df.dropna(axis='rows', how='any', thresh=len(PD_df.columns)-len(PD_df.columns)*0.35)\n",
    "\n",
    "###---PD DataFrame: Cleaning Up Data---###\n",
    "# convert employment length from string to integers\n",
    "PD_df.loc[PD_df.emp_length == '10+ years', 'emp_length'] = '10 years' # make 10+ to 12 years\n",
    "PD_df.loc[PD_df.emp_length == '< 1 year', 'emp_length'] = '0 year' # round up <1 year to 1 year\n",
    "temp = PD_df.emp_length # create temporary list of employment length\n",
    "temp = temp.fillna('0') # get rid of null values in place of 0 as a string\n",
    "temp = [x.strip(' year') for x in temp] # strip 'year' from strings\n",
    "temp = [x.strip(' years') for x in temp] # strip 'years' from strings\n",
    "PD_df.emp_length = [int(x) for x in temp] # return integer values back into the dataframe\n",
    "\n",
    "# fill in missing values\n",
    "PD_df['dti'] = PD_df['dti'].fillna(np.median(df.dti))\n",
    "PD_df = PD_df.fillna(0)\n",
    "\n",
    "# adjust outliers\n",
    "PD_df = PD_df.loc[(PD_df['annual_inc'] < 300000) & (PD_df['dti'] < 60) & \n",
    "                  (PD_df['revol_bal'] < 100000) & (PD_df['mort_acc'] < 10)]\n",
    "\n",
    "s = stats.iqr(PD_df.open_acc, interpolation = 'midpoint')/(2*0.6745)\n",
    "PD_df.loc[PD_df.open_acc > np.median(PD_df.open_acc)+3*s, 'open_acc'] = np.median(PD_df.open_acc)+3*s"
   ]
  },
  {
   "cell_type": "code",
   "execution_count": 0,
   "metadata": {
    "colab": {},
    "colab_type": "code",
    "id": "_HgJZ2c7fYhQ"
   },
   "outputs": [],
   "source": [
    "###---Cleaning LGD DataFrame---###\n",
    "# Calculating LGD column\n",
    "LGD_df['LGD'] = (LGD_df.loan_amnt - LGD_df.total_pymnt - LGD_df.tot_coll_amt)/LGD_df.loan_amnt * 100\n",
    "LGD_df.loc[LGD_df.LGD < 0, 'LGD'] = 0 # change all 'negative' LGDs to 0\n",
    "\n",
    "###---LGD DataFrame: Dropping Columns---###\n",
    "# removing columns with irrelevant data points (i.e. member_id or url)\n",
    "LGD_df = LGD_df.drop(['Unnamed: 0', 'member_id', 'url', 'id', 'desc', \n",
    "                      'hardship_flag', 'pymnt_plan', ], axis='columns')\n",
    "\n",
    "LGD_df = LGD_df.drop(['mths_since_rcnt_il', 'mo_sin_rcnt_rev_tl_op', \n",
    "              'mths_since_recent_inq', 'avg_cur_bal', 'mo_sin_rcnt_tl', \n",
    "              'mths_since_recent_bc', 'delinq_2yrs', \n",
    "              'out_prncp', 'total_rec_late_fee', 'recoveries', \n",
    "              'collections_12_mths_ex_med', 'acc_now_delinq',\n",
    "              'chargeoff_within_12_mths', 'delinq_amnt', 'num_accts_ever_120_pd',\n",
    "              'num_tl_120dpd_2m', 'num_tl_30dpd', 'num_tl_90g_dpd_24m',\n",
    "              'funded_amnt', 'funded_amnt_inv', 'out_prncp_inv', \n",
    "              'total_pymnt_inv', 'total_rec_prncp', 'total_rec_int', \n",
    "              'collection_recovery_fee', 'last_pymnt_amnt', 'total_rev_hi_lim',\n",
    "              'acc_open_past_24mths', 'bc_open_to_buy', \n",
    "              'mths_since_recent_revol_delinq', 'num_actv_bc_tl', \n",
    "              'num_actv_rev_tl', 'num_bc_sats', 'num_bc_tl', 'num_il_tl', \n",
    "              'num_op_rev_tl', 'num_rev_accts', 'num_rev_tl_bal_gt_0', \n",
    "              'num_sats', 'num_tl_op_past_12m', 'pct_tl_nvr_dlq', \n",
    "              'percent_bc_gt_75', 'tax_liens', 'total_bal_ex_mort', \n",
    "              'total_bc_limit', 'total_il_high_credit_limit',\n",
    "              'debt_settlement_flag', 'mths_since_last_delinq',\n",
    "              'revol_util', 'mo_sin_old_rev_tl_op', 'mo_sin_old_il_acct',\n",
    "              'emp_length', 'revol_bal', 'open_acc', 'tot_hi_cred_lim', \n",
    "              'term', 'home_ownership', \n",
    "              'open_acc_6m', 'open_act_il', 'open_il_12m', 'open_il_24m', \n",
    "              'total_bal_il', 'il_util', 'open_rv_12m', 'open_rv_24m', \n",
    "              'max_bal_bc', 'total_cu_tl', 'inq_last_12m', 'inq_fi'], axis='columns')\n",
    "\n",
    "# removing columns with difficult to work with data points\n",
    "LGD_df = LGD_df.drop(['emp_title', 'purpose', 'title'], axis='columns')\n",
    "\n",
    "# removing columns that contain data pertaining to identity and not behaviour\n",
    "LGD_df = LGD_df.drop(['zip_code', 'addr_state'], axis='columns')\n",
    "\n",
    "# remove columns where most of the data (>50%) is None\n",
    "LGD_df = LGD_df.dropna(thresh=len(LGD_df)*0.5, axis='columns')\n",
    "\n",
    "# remove columns where most of the data points are the same\n",
    "LGD_df = LGD_df.drop(['application_type', 'initial_list_status',\n",
    "              'disbursement_method'], axis='columns')\n",
    "\n",
    "# remove all date columns\n",
    "LGD_df = LGD_df.drop(['issue_d', 'earliest_cr_line', 'last_pymnt_d', 'last_credit_pull_d'], axis='columns')\n",
    "\n",
    "# remove highly correlated values\n",
    "corr_matrix = LGD_df.corr() # create a correlation matrix\n",
    "upper = corr_matrix.where(np.triu(np.ones(corr_matrix.shape), k=1).astype(np.bool)) # obtain only the upper triangle of the matrix\n",
    "to_drop = [column for column in upper.columns if any(upper[column] > 0.5)] # get column names with features with greater than 0.5 correlation\n",
    "LGD_df = LGD_df.drop(['fico_range_high', 'pub_rec', 'last_fico_range_high', \n",
    "                      'mort_acc', 'pub_rec_bankruptcies', \n",
    "                      'inq_last_6mths', 'total_acc'], axis='columns')\n",
    "\n",
    "\n",
    "###---LGD DataFrame: Dropping Rows---###\n",
    "# remove rows that are missing >35% of variables\n",
    "LGD_df = LGD_df.dropna(axis='rows', how='any', thresh=len(LGD_df.columns)-len(LGD_df.columns)*0.35)\n",
    "\n",
    "###---LGD DataFrame: Cleaning Data---###\n",
    "# fill in missing values\n",
    "LGD_df['dti'] = LGD_df['dti'].fillna(np.median(LGD_df.dti))\n",
    "LGD_df = LGD_df.fillna(0)\n",
    "\n",
    "## Adjust Outliers ##\n",
    "LGD_df = LGD_df.loc[(LGD_df['annual_inc'] < 300000) & (LGD_df['dti'] < 60)]\n"
   ]
  },
  {
   "cell_type": "code",
   "execution_count": 27,
   "metadata": {
    "colab": {
     "base_uri": "https://localhost:8080/",
     "height": 52
    },
    "colab_type": "code",
    "id": "1F3ffQ6rhdqS",
    "outputId": "7407378e-bd0e-4a9c-cd01-c0f60314b4f7"
   },
   "outputs": [
    {
     "name": "stderr",
     "output_type": "stream",
     "text": [
      "/usr/local/lib/python3.6/dist-packages/ipykernel_launcher.py:1: UserWarning: Boolean Series key will be reindexed to match DataFrame index.\n",
      "  \"\"\"Entry point for launching an IPython kernel.\n"
     ]
    }
   ],
   "source": [
    "###---PD Dataframe: Additional Cleaning---###\n",
    "# remove rows with loan status that is not 'Fully Paid' or 'Charged Off'\n",
    "PD_df = PD_df[df['loan_status'].isin(['Fully Paid', 'Charged Off'])]\n",
    "\n",
    "# convert loan status to integer values of 1 or 0 (Fully Paid or Charged Off respectively)\n",
    "PD_df.loc[PD_df.loan_status == 'Fully Paid', 'loan_status'] = 0\n",
    "PD_df.loc[PD_df.loan_status == 'Charged Off', 'loan_status'] = 1\n",
    "\n",
    "###---LGD Dataframe: Additional Cleaning---###\n",
    "# remove rows with loan status that is not 'Charged Off'\n",
    "LGD_df_extra = LGD_df[LGD_df['loan_status'].isin(['Charged Off']) == False]\n",
    "LGD_df = LGD_df[LGD_df['loan_status'].isin(['Charged Off'])]\n",
    "\n",
    "# drop the loan status column\n",
    "LGD_df = LGD_df.drop('loan_status', axis='columns')\n",
    "LGD_df_extra = LGD_df_extra.drop('loan_status', axis='columns')\n",
    "\n",
    "# group LGD values into groups of 10\n",
    "LGD_df.LGD = [math.ceil(x/10) * 10 for x in LGD_df.LGD]\n",
    "LGD_df.loc[LGD_df.LGD == 0, 'LGD'] = 10\n",
    "\n",
    "LGD_df_extra.LGD = [math.ceil(x/10) * 10 for x in LGD_df_extra.LGD]\n",
    "LGD_df_extra.loc[LGD_df_extra.LGD == 0, 'LGD'] = 10\n",
    "\n",
    "# create dummy variables\n",
    "LGD_df = pd.get_dummies(LGD_df, drop_first=True)\n",
    "LGD_df_extra = pd.get_dummies(LGD_df_extra, drop_first=True)"
   ]
  },
  {
   "cell_type": "markdown",
   "metadata": {},
   "source": [
    "**Weight of Evidence Transformation for Probability of Default DataFrame**"
   ]
  },
  {
   "cell_type": "code",
   "execution_count": 39,
   "metadata": {
    "colab": {
     "base_uri": "https://localhost:8080/",
     "height": 571
    },
    "colab_type": "code",
    "id": "GqHHcxYDkj83",
    "outputId": "ef423253-3c2b-43ee-8f86-baf121b28277"
   },
   "outputs": [
    {
     "name": "stdout",
     "output_type": "stream",
     "text": [
      "[INFO] creating woe binning ...\n",
      "Binning on 922509 rows and 19 columns in 00:01:07\n",
      "[INFO] converting into woe values ...\n",
      "Woe transformating on 922509 rows and 18 columns in 00:00:38\n",
      "[INFO] converting into woe values ...\n",
      "Woe transformating on 395362 rows and 18 columns in 00:00:19\n",
      "[INFO] creating woe binning ...\n",
      "Binning on 922509 rows and 11 columns in 00:00:38\n",
      "[INFO] converting into woe values ...\n",
      "Woe transformating on 922509 rows and 10 columns in 00:00:23\n",
      "[INFO] converting into woe values ...\n",
      "Woe transformating on 395362 rows and 10 columns in 00:00:11\n"
     ]
    },
    {
     "data": {
      "text/html": [
       "<div>\n",
       "<style scoped>\n",
       "    .dataframe tbody tr th:only-of-type {\n",
       "        vertical-align: middle;\n",
       "    }\n",
       "\n",
       "    .dataframe tbody tr th {\n",
       "        vertical-align: top;\n",
       "    }\n",
       "\n",
       "    .dataframe thead th {\n",
       "        text-align: right;\n",
       "    }\n",
       "</style>\n",
       "<table border=\"1\" class=\"dataframe\">\n",
       "  <thead>\n",
       "    <tr style=\"text-align: right;\">\n",
       "      <th></th>\n",
       "      <th>variable</th>\n",
       "      <th>info_value</th>\n",
       "    </tr>\n",
       "  </thead>\n",
       "  <tbody>\n",
       "    <tr>\n",
       "      <th>9</th>\n",
       "      <td>int_rate_woe</td>\n",
       "      <td>0.430817</td>\n",
       "    </tr>\n",
       "    <tr>\n",
       "      <th>0</th>\n",
       "      <td>term_woe</td>\n",
       "      <td>0.176420</td>\n",
       "    </tr>\n",
       "    <tr>\n",
       "      <th>8</th>\n",
       "      <td>fico_range_low_woe</td>\n",
       "      <td>0.118474</td>\n",
       "    </tr>\n",
       "    <tr>\n",
       "      <th>3</th>\n",
       "      <td>dti_woe</td>\n",
       "      <td>0.070350</td>\n",
       "    </tr>\n",
       "    <tr>\n",
       "      <th>6</th>\n",
       "      <td>loan_amnt_woe</td>\n",
       "      <td>0.032959</td>\n",
       "    </tr>\n",
       "    <tr>\n",
       "      <th>4</th>\n",
       "      <td>mort_acc_woe</td>\n",
       "      <td>0.031647</td>\n",
       "    </tr>\n",
       "    <tr>\n",
       "      <th>2</th>\n",
       "      <td>home_ownership_woe</td>\n",
       "      <td>0.029736</td>\n",
       "    </tr>\n",
       "    <tr>\n",
       "      <th>5</th>\n",
       "      <td>inq_last_6mths_woe</td>\n",
       "      <td>0.026661</td>\n",
       "    </tr>\n",
       "    <tr>\n",
       "      <th>1</th>\n",
       "      <td>annual_inc_woe</td>\n",
       "      <td>0.024375</td>\n",
       "    </tr>\n",
       "    <tr>\n",
       "      <th>7</th>\n",
       "      <td>open_acc_6m_woe</td>\n",
       "      <td>0.020965</td>\n",
       "    </tr>\n",
       "  </tbody>\n",
       "</table>\n",
       "</div>"
      ],
      "text/plain": [
       "             variable  info_value\n",
       "9        int_rate_woe    0.430817\n",
       "0            term_woe    0.176420\n",
       "8  fico_range_low_woe    0.118474\n",
       "3             dti_woe    0.070350\n",
       "6       loan_amnt_woe    0.032959\n",
       "4        mort_acc_woe    0.031647\n",
       "2  home_ownership_woe    0.029736\n",
       "5  inq_last_6mths_woe    0.026661\n",
       "1      annual_inc_woe    0.024375\n",
       "7     open_acc_6m_woe    0.020965"
      ]
     },
     "execution_count": 39,
     "metadata": {
      "tags": []
     },
     "output_type": "execute_result"
    }
   ],
   "source": [
    "###---Weight of Evidence Transformation---###\n",
    "PD_train_woe, PD_test_woe, PD_train, PD_test, PD_bins = woe_trans(PD_df, 'loan_status') # calling the woe transformation function\n",
    "\n",
    "PD_train_woe_iv = sc.iv(PD_train_woe, 'loan_status')\n",
    "\n",
    "# drop variables that have extremely low IV (<0.02)\n",
    "PD_train_woe_iv = PD_train_woe_iv.loc[PD_train_woe_iv['info_value'] < 0.02]\n",
    "PD_train_woe_iv.variable = [x[:-4] for x in PD_train_woe_iv.variable]\n",
    "PD_df = PD_df.drop(PD_train_woe_iv.variable.values, axis='columns')\n",
    "\n",
    "PD_train_woe, PD_test_woe, PD_train, PD_test, PD_bins = woe_trans(PD_df, 'loan_status') # calling the woe transformation function\n",
    "\n",
    "# sc.woebin_plot(PD_bins) # Plots the different bins\n",
    "sc.iv(PD_train_woe, 'loan_status')\n"
   ]
  },
  {
   "cell_type": "markdown",
   "metadata": {},
   "source": [
    "**Logistic Regression Model to Predict Probability of Default**\n",
    "\n",
    "Create a logistic regressino model and fit it using the weight of evidence transformation. A confusion matrix and an ROC curve is created to evaluate the performance of the model. "
   ]
  },
  {
   "cell_type": "code",
   "execution_count": 40,
   "metadata": {
    "colab": {
     "base_uri": "https://localhost:8080/",
     "height": 415
    },
    "colab_type": "code",
    "id": "AZ8ihgk3tR-d",
    "outputId": "63320945-64d9-4f62-8a8e-69b20847df7e"
   },
   "outputs": [
    {
     "name": "stderr",
     "output_type": "stream",
     "text": [
      "[Parallel(n_jobs=1)]: Using backend SequentialBackend with 1 concurrent workers.\n"
     ]
    },
    {
     "name": "stdout",
     "output_type": "stream",
     "text": [
      "convergence after 43 epochs took 27 seconds\n"
     ]
    },
    {
     "name": "stderr",
     "output_type": "stream",
     "text": [
      "[Parallel(n_jobs=1)]: Done   1 out of   1 | elapsed:   27.8s finished\n"
     ]
    },
    {
     "data": {
      "text/html": [
       "<div>\n",
       "<style scoped>\n",
       "    .dataframe tbody tr th:only-of-type {\n",
       "        vertical-align: middle;\n",
       "    }\n",
       "\n",
       "    .dataframe tbody tr th {\n",
       "        vertical-align: top;\n",
       "    }\n",
       "\n",
       "    .dataframe thead th {\n",
       "        text-align: right;\n",
       "    }\n",
       "</style>\n",
       "<table border=\"1\" class=\"dataframe\">\n",
       "  <thead>\n",
       "    <tr style=\"text-align: right;\">\n",
       "      <th></th>\n",
       "      <th>column</th>\n",
       "      <th>0</th>\n",
       "    </tr>\n",
       "  </thead>\n",
       "  <tbody>\n",
       "    <tr>\n",
       "      <th>0</th>\n",
       "      <td>int_rate_woe</td>\n",
       "      <td>0.641168</td>\n",
       "    </tr>\n",
       "    <tr>\n",
       "      <th>1</th>\n",
       "      <td>term_woe</td>\n",
       "      <td>0.632787</td>\n",
       "    </tr>\n",
       "    <tr>\n",
       "      <th>2</th>\n",
       "      <td>fico_range_low_woe</td>\n",
       "      <td>0.488080</td>\n",
       "    </tr>\n",
       "    <tr>\n",
       "      <th>3</th>\n",
       "      <td>home_ownership_woe</td>\n",
       "      <td>0.632978</td>\n",
       "    </tr>\n",
       "    <tr>\n",
       "      <th>4</th>\n",
       "      <td>annual_inc_woe</td>\n",
       "      <td>0.646504</td>\n",
       "    </tr>\n",
       "    <tr>\n",
       "      <th>5</th>\n",
       "      <td>dti_woe</td>\n",
       "      <td>0.578319</td>\n",
       "    </tr>\n",
       "    <tr>\n",
       "      <th>6</th>\n",
       "      <td>open_acc_6m_woe</td>\n",
       "      <td>0.914884</td>\n",
       "    </tr>\n",
       "    <tr>\n",
       "      <th>7</th>\n",
       "      <td>mort_acc_woe</td>\n",
       "      <td>0.587392</td>\n",
       "    </tr>\n",
       "    <tr>\n",
       "      <th>8</th>\n",
       "      <td>inq_last_6mths_woe</td>\n",
       "      <td>0.402622</td>\n",
       "    </tr>\n",
       "    <tr>\n",
       "      <th>9</th>\n",
       "      <td>loan_amnt_woe</td>\n",
       "      <td>0.518734</td>\n",
       "    </tr>\n",
       "  </tbody>\n",
       "</table>\n",
       "</div>"
      ],
      "text/plain": [
       "               column         0\n",
       "0        int_rate_woe  0.641168\n",
       "1            term_woe  0.632787\n",
       "2  fico_range_low_woe  0.488080\n",
       "3  home_ownership_woe  0.632978\n",
       "4      annual_inc_woe  0.646504\n",
       "5             dti_woe  0.578319\n",
       "6     open_acc_6m_woe  0.914884\n",
       "7        mort_acc_woe  0.587392\n",
       "8  inq_last_6mths_woe  0.402622\n",
       "9       loan_amnt_woe  0.518734"
      ]
     },
     "execution_count": 40,
     "metadata": {
      "tags": []
     },
     "output_type": "execute_result"
    }
   ],
   "source": [
    "###---Logistic Regression Model---###\n",
    "PD_logreg = LogisticRegression(penalty='l1', # Type of penalization l1 = lasso, l2 = ridge\n",
    "                               tol=1e-8, # Tolerance for parameters\n",
    "                               C=0.02, # Penalty constant\n",
    "                               fit_intercept=True,\n",
    "                               class_weight='balanced', # Weights\n",
    "                               random_state=0, # Random seed\n",
    "                               max_iter=20409, # Maximum iterations\n",
    "                               verbose=1, # Show process\n",
    "                               solver = 'saga',\n",
    "                               warm_start=False)\n",
    "\n",
    "# fit the model\n",
    "PD_logreg.fit(X = PD_train_woe.drop(['loan_status'], axis='columns'), \n",
    "              y = PD_train_woe['loan_status']) # The target\n",
    "\n",
    "# get coefficients\n",
    "coef_df = pd.concat([pd.DataFrame({'column': PD_train_woe.columns[1:]}), \n",
    "                    pd.DataFrame(np.transpose(PD_logreg.coef_))],\n",
    "                    axis = 1)\n",
    "\n",
    "pred_class_test = PD_logreg.predict(PD_test_woe.drop('loan_status', axis='columns'))\n",
    "probs_test = PD_logreg.predict_proba(PD_test_woe.drop('loan_status', axis='columns'))\n"
   ]
  },
  {
   "cell_type": "code",
   "execution_count": 41,
   "metadata": {
    "colab": {
     "base_uri": "https://localhost:8080/",
     "height": 472
    },
    "colab_type": "code",
    "id": "bIf4GeXw4fZp",
    "outputId": "9e5b8cb0-c0b5-4f08-bece-a9f3872a36b8"
   },
   "outputs": [
    {
     "data": {
      "image/png": "[encoded data removed]",
      "text/plain": [
       "<Figure size 720x504 with 2 Axes>"
      ]
     },
     "metadata": {
      "tags": []
     },
     "output_type": "display_data"
    }
   ],
   "source": [
    "heat_map(PD_test['loan_status'], pred_class_test, axis=['good', 'bad'])"
   ]
  },
  {
   "cell_type": "code",
   "execution_count": 43,
   "metadata": {
    "colab": {
     "base_uri": "https://localhost:8080/",
     "height": 265
    },
    "colab_type": "code",
    "id": "9B8fsIFH3IYg",
    "outputId": "c6b6e96a-8701-4511-f7d5-b8f169221c0f"
   },
   "outputs": [
    {
     "data": {
      "image/png": "[encoded data removed]",
      "text/plain": [
       "<Figure size 432x288 with 1 Axes>"
      ]
     },
     "metadata": {
      "tags": []
     },
     "output_type": "display_data"
    }
   ],
   "source": [
    "auc_roc(PD_test['loan_status'], probs_test[:,1])"
   ]
  },
  {
   "cell_type": "markdown",
   "metadata": {},
   "source": [
    "**Probability of Default Scorecard**\n",
    "\n",
    "Socrecard for probability of default created using the WoE bins and the logistic regression model created"
   ]
  },
  {
   "cell_type": "code",
   "execution_count": 0,
   "metadata": {
    "colab": {},
    "colab_type": "code",
    "id": "shEqULOdk87_"
   },
   "outputs": [],
   "source": [
    "###---PD Scorecard---###\n",
    "PD_sc = sc.scorecard(PD_bins, PD_logreg, \n",
    "             PD_train_woe.columns[1:], # The column names in the trained LR\n",
    "             points0=600, # Base points\n",
    "             odds0=0.01, # Base odds\n",
    "             pdo=50) # PDO \n",
    "\n",
    "# Applying the credit score. Applies over the original data!\n",
    "train_score = sc.scorecard_ply(PD_train, PD_sc, \n",
    "                               print_step=0)\n",
    "test_score = sc.scorecard_ply(PD_test, PD_sc, \n",
    "                               print_step=0)\n",
    "\n",
    "test_score.describe()"
   ]
  },
  {
   "cell_type": "markdown",
   "metadata": {},
   "source": [
    "**Random Forest Model for Loss Given Default**"
   ]
  },
  {
   "cell_type": "code",
   "execution_count": 30,
   "metadata": {
    "colab": {
     "base_uri": "https://localhost:8080/",
     "height": 330
    },
    "colab_type": "code",
    "id": "4OSGTMx4zV-2",
    "outputId": "d5fce85a-8bf3-4b63-9952-782c870057e3"
   },
   "outputs": [
    {
     "name": "stderr",
     "output_type": "stream",
     "text": [
      "[Parallel(n_jobs=-1)]: Using backend ThreadingBackend with 4 concurrent workers.\n",
      "[Parallel(n_jobs=-1)]: Done  42 tasks      | elapsed:    7.0s\n",
      "[Parallel(n_jobs=-1)]: Done 192 tasks      | elapsed:   29.9s\n",
      "[Parallel(n_jobs=-1)]: Done 442 tasks      | elapsed:  1.1min\n",
      "[Parallel(n_jobs=-1)]: Done 792 tasks      | elapsed:  2.0min\n",
      "[Parallel(n_jobs=-1)]: Done 1000 out of 1000 | elapsed:  2.6min finished\n",
      "[Parallel(n_jobs=4)]: Using backend ThreadingBackend with 4 concurrent workers.\n",
      "[Parallel(n_jobs=4)]: Done  42 tasks      | elapsed:    0.2s\n",
      "[Parallel(n_jobs=4)]: Done 192 tasks      | elapsed:    0.7s\n",
      "[Parallel(n_jobs=4)]: Done 442 tasks      | elapsed:    1.6s\n",
      "[Parallel(n_jobs=4)]: Done 792 tasks      | elapsed:    2.8s\n",
      "[Parallel(n_jobs=4)]: Done 1000 out of 1000 | elapsed:    3.6s finished\n",
      "[Parallel(n_jobs=4)]: Using backend ThreadingBackend with 4 concurrent workers.\n",
      "[Parallel(n_jobs=4)]: Done  42 tasks      | elapsed:    0.2s\n",
      "[Parallel(n_jobs=4)]: Done 192 tasks      | elapsed:    0.7s\n",
      "[Parallel(n_jobs=4)]: Done 442 tasks      | elapsed:    1.6s\n",
      "[Parallel(n_jobs=4)]: Done 792 tasks      | elapsed:    2.9s\n",
      "[Parallel(n_jobs=4)]: Done 1000 out of 1000 | elapsed:    3.6s finished\n"
     ]
    }
   ],
   "source": [
    "###---LGD Random Forest Model---###\n",
    "LGD_train, LGD_test = sc.split_df(LGD_df, 'LGD',\n",
    "                                  ratio = 0.7, \n",
    "                                  seed = 0).values()\n",
    "\n",
    "# create model\n",
    "LGD_rf = RandomForestClassifier(n_estimators=1000, # Number of trees to train\n",
    "                       max_depth=None, # Max depth of the trees\n",
    "                       min_samples_split=2, # Minimum samples to create a split.\n",
    "                       min_samples_leaf=0.001, # Minimum samples in a leaf\n",
    "                       min_weight_fraction_leaf=0.001, \n",
    "                       max_features='auto', # Maximum number of features per split\n",
    "                       max_leaf_nodes=None, # Maximum number of nodes\n",
    "                       min_impurity_decrease=0.0001, # Minimum impurity decrease\n",
    "                       bootstrap=False, # \n",
    "                       n_jobs=-1, # Parallel processing\n",
    "                       random_state=0, # Seed\n",
    "                       verbose=1, \n",
    "                       warm_start=False,\n",
    "                       class_weight='balanced')\n",
    "\n",
    "# fit model\n",
    "LGD_rf.fit(X = LGD_train.drop('LGD', axis='columns'), \n",
    "           y = LGD_train['LGD'])\n",
    "\n",
    "# Apply the model to the test set.\n",
    "rf_pred_class_test = LGD_rf.predict(LGD_test.drop('LGD', axis='columns'))\n",
    "rf_probs_test = LGD_rf.predict_proba(LGD_test.drop('LGD', axis='columns'))"
   ]
  },
  {
   "cell_type": "code",
   "execution_count": 35,
   "metadata": {
    "colab": {
     "base_uri": "https://localhost:8080/",
     "height": 588
    },
    "colab_type": "code",
    "id": "kb4pyUU16EV5",
    "outputId": "24e512a0-4a14-415a-8909-97fbcbac361a"
   },
   "outputs": [
    {
     "data": {
      "image/png": "[encoded data removed]",
      "text/plain": [
       "<Figure size 720x504 with 2 Axes>"
      ]
     },
     "metadata": {
      "tags": []
     },
     "output_type": "display_data"
    },
    {
     "name": "stderr",
     "output_type": "stream",
     "text": [
      "[Parallel(n_jobs=4)]: Using backend ThreadingBackend with 4 concurrent workers.\n",
      "[Parallel(n_jobs=4)]: Done  42 tasks      | elapsed:    3.5s\n",
      "[Parallel(n_jobs=4)]: Done 192 tasks      | elapsed:   15.6s\n",
      "[Parallel(n_jobs=4)]: Done 442 tasks      | elapsed:   35.4s\n",
      "[Parallel(n_jobs=4)]: Done 792 tasks      | elapsed:  1.0min\n"
     ]
    },
    {
     "name": "stdout",
     "output_type": "stream",
     "text": [
      "[10 30 10 ... 40 30 40]\n"
     ]
    },
    {
     "name": "stderr",
     "output_type": "stream",
     "text": [
      "[Parallel(n_jobs=4)]: Done 1000 out of 1000 | elapsed:  1.3min finished\n"
     ]
    }
   ],
   "source": [
    "heat_map(LGD_test['LGD'], rf_pred_class_test, np.arange(10,110, 10))\n",
    "print(LGD_rf.predict(LGD_df_extra.drop('LGD', axis='columns')))"
   ]
  },
  {
   "cell_type": "code",
   "execution_count": 32,
   "metadata": {
    "colab": {
     "base_uri": "https://localhost:8080/",
     "height": 225
    },
    "colab_type": "code",
    "id": "QS5qmyhhwJEJ",
    "outputId": "088a38e2-01ed-48da-bd38-05c5a707f5cb"
   },
   "outputs": [
    {
     "name": "stdout",
     "output_type": "stream",
     "text": [
      "loan_amnt = 0.21\n",
      "int_rate = 0.01\n",
      "installment = 0.11\n",
      "annual_inc = 0.01\n",
      "dti = 0.00\n",
      "fico_range_low = 0.01\n",
      "total_pymnt = 0.55\n",
      "last_fico_range_low = 0.01\n",
      "tot_coll_amt = 0.02\n",
      "tot_cur_bal = 0.03\n",
      "all_util = 0.05\n",
      "bc_util = 0.00\n"
     ]
    }
   ],
   "source": [
    "# variable importance\n",
    "for name, importance in zip(LGD_train.drop(['LGD'], axis='columns').columns, LGD_rf.feature_importances_):\n",
    "  print(name, \"= %.2f\" % importance)"
   ]
  },
  {
   "cell_type": "code",
   "execution_count": null,
   "metadata": {},
   "outputs": [],
   "source": [
    "print(f\"Average LGD of non-defaulted loans using RF model: {np.mean(LGD_rf.predict(LGD_df_extra.drop('LGD', axis='columns')))}\")"
   ]
  },
  {
   "cell_type": "markdown",
   "metadata": {},
   "source": [
    "**XGBoosted Model for Loss Given Default**"
   ]
  },
  {
   "cell_type": "code",
   "execution_count": 33,
   "metadata": {
    "colab": {
     "base_uri": "https://localhost:8080/",
     "height": 364
    },
    "colab_type": "code",
    "id": "JmL5G9I86gLL",
    "outputId": "200f6804-55ab-4a57-9da5-36d65deb5bd2"
   },
   "outputs": [
    {
     "name": "stdout",
     "output_type": "stream",
     "text": [
      "      Iter       Train Loss      OOB Improve   Remaining Time \n",
      "         1      236785.6989       11027.2403            4.19m\n",
      "         2      225486.9201        6578.6063            4.14m\n",
      "         3      216485.5963        5248.8618            4.11m\n",
      "         4      207707.4296        5035.8385            4.05m\n",
      "         5      200859.3378        3973.3807            4.00m\n",
      "         6      194510.4837        3666.5766            3.96m\n",
      "         7      189158.1290        3030.9661            3.92m\n",
      "         8      184415.8718        2840.0746            3.88m\n",
      "         9      180307.6774        2437.6670            3.84m\n",
      "        10      175698.9938        2552.8233            3.80m\n",
      "        20      146785.8658        1761.3484            3.39m\n",
      "        30      128128.8417         847.1038            2.96m\n",
      "        40      114602.1499         656.5781            2.54m\n",
      "        50      105823.5952         461.6204            2.11m\n",
      "        60       98023.8916         347.8711            1.68m\n",
      "        70       91745.2265         310.8980            1.30m\n",
      "        80       86243.0372         315.1105           51.81s\n",
      "        90       81795.0720         302.3943           25.78s\n",
      "       100       77827.2295         195.1440            0.00s\n"
     ]
    }
   ],
   "source": [
    "# create model\n",
    "LGD_xg = GradientBoostingClassifier(loss='deviance', \n",
    "                           learning_rate=0.1, # How much to shrink error in each subsequent training\n",
    "                           n_estimators=100, # How many trees to use\n",
    "                           subsample=0.632, # Subsampling to use\n",
    "                           criterion='friedman_mse', # Error to use for each split\n",
    "                           min_samples_split=2, # Minimum samples for a split\n",
    "                           min_samples_leaf=1, # Minimum samples in a leaf\n",
    "                           min_weight_fraction_leaf=0.0, # Minimum fraction of samples in a leaf\n",
    "                           max_depth=3, # Maximum depth\n",
    "                           min_impurity_decrease=0.01, # Minimum impurity decrease\n",
    "                           init=None, \n",
    "                           random_state=0, # Seed\n",
    "                           max_features='auto', \n",
    "                           verbose=1,  \n",
    "                           max_leaf_nodes=None,  \n",
    "                           warm_start=False,  \n",
    "                           presort='auto', \n",
    "                           validation_fraction=0.3, # to prevent overfitting\n",
    "                           n_iter_no_change=None, \n",
    "                           tol=0.0001 # Tolerance\n",
    "                          )\n",
    "# fit model\n",
    "LGD_xg.fit(LGD_train.drop('LGD', axis='columns'), \n",
    "           LGD_train['LGD'])\n",
    "\n",
    "# Apply the model to the test set.\n",
    "xg_pred_class_test = LGD_xg.predict(LGD_test.drop('LGD', axis='columns'))\n",
    "xg_probs_test = LGD_xg.predict_proba(LGD_test.drop('LGD', axis='columns'))\n"
   ]
  },
  {
   "cell_type": "code",
   "execution_count": 34,
   "metadata": {
    "colab": {
     "base_uri": "https://localhost:8080/",
     "height": 466
    },
    "colab_type": "code",
    "id": "2Z4r95V-S3-K",
    "outputId": "1fdc42d1-08ea-4c43-adbb-aa99c6678009"
   },
   "outputs": [
    {
     "data": {
      "image/png": "[encoded data removed]",
      "text/plain": [
       "<Figure size 720x504 with 2 Axes>"
      ]
     },
     "metadata": {
      "tags": []
     },
     "output_type": "display_data"
    }
   ],
   "source": [
    "heat_map(LGD_test['LGD'], xg_pred_class_test, np.arange(10,110, 10))"
   ]
  },
  {
   "cell_type": "code",
   "execution_count": 22,
   "metadata": {
    "colab": {
     "base_uri": "https://localhost:8080/",
     "height": 225
    },
    "colab_type": "code",
    "id": "5e2VEXJkiGRz",
    "outputId": "7e88d00e-b4ca-4dde-d7dd-818a310bba39"
   },
   "outputs": [
    {
     "name": "stdout",
     "output_type": "stream",
     "text": [
      "loan_amnt = 0.36\n",
      "int_rate = 0.00\n",
      "installment = 0.02\n",
      "annual_inc = 0.00\n",
      "dti = 0.00\n",
      "fico_range_low = 0.00\n",
      "total_pymnt = 0.56\n",
      "last_fico_range_low = 0.00\n",
      "tot_coll_amt = 0.03\n",
      "tot_cur_bal = 0.03\n",
      "all_util = 0.01\n",
      "bc_util = 0.00\n"
     ]
    }
   ],
   "source": [
    "# variable importance\n",
    "for name, importance in zip(LGD_train.drop(['LGD'], axis='columns').columns, LGD_xg.feature_importances_):\n",
    "  print(name, \"= %.2f\" % importance)"
   ]
  },
  {
   "cell_type": "code",
   "execution_count": 38,
   "metadata": {
    "colab": {
     "base_uri": "https://localhost:8080/",
     "height": 34
    },
    "colab_type": "code",
    "id": "nSEl8If2wesw",
    "outputId": "84243df5-4734-4818-a4d8-63b59aaf61ce"
   },
   "outputs": [
    {
     "name": "stdout",
     "output_type": "stream",
     "text": [
      "Average LGD of non-defaulted loans using XGB model:31.025575989920956\n"
     ]
    }
   ],
   "source": [
    "print(f\"Average LGD of non-defaulted loans using XGB model:{np.mean(LGD_xg.predict(LGD_df_extra.drop('LGD', axis='columns')))}\")"
   ]
  }
 ],
 "metadata": {
  "colab": {
   "collapsed_sections": [],
   "machine_shape": "hm",
   "name": "Credit Risk Analysis.ipynb",
   "provenance": []
  },
  "kernelspec": {
   "display_name": "Python 3",
   "language": "python",
   "name": "python3"
  },
  "language_info": {
   "codemirror_mode": {
    "name": "ipython",
    "version": 3
   },
   "file_extension": ".py",
   "mimetype": "text/x-python",
   "name": "python",
   "nbconvert_exporter": "python",
   "pygments_lexer": "ipython3",
   "version": "3.6.5"
  }
 },
 "nbformat": 4,
 "nbformat_minor": 1
}
